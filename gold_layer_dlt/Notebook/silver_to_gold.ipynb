{
 "cells": [
  {
   "cell_type": "markdown",
   "metadata": {
    "application/vnd.databricks.v1+cell": {
     "cellMetadata": {},
     "inputWidgets": {},
     "nuid": "a43fe05a-1886-4067-b100-3b1ca9e600e3",
     "showTitle": false,
     "tableResultSettingsMap": {},
     "title": ""
    }
   },
   "source": [
    "Delta_Live_Tables"
   ]
  },
  {
   "cell_type": "code",
   "execution_count": 0,
   "metadata": {
    "application/vnd.databricks.v1+cell": {
     "cellMetadata": {
      "byteLimit": 2048000,
      "rowLimit": 10000
     },
     "inputWidgets": {},
     "nuid": "dcafb100-81d5-474e-af54-a4f5890d8b38",
     "showTitle": false,
     "tableResultSettingsMap": {},
     "title": ""
    }
   },
   "outputs": [],
   "source": [
    "import dlt\n",
    "from pyspark import *\n",
    "from pyspark.sql import functions \n",
    "from pyspark.sql.functions import *\n",
    "\n",
    "\n",
    "\n",
    "#Customer_Segmentation\n",
    "@dlt.table\n",
    "def customer_segmentation():\n",
    "    df=spark.read.table(\"blinkit.silver.customers\")\n",
    "    df=df.groupBy(\"customer_segment\") \\\n",
    "             .agg(\n",
    "                 functions.count(\"customer_id\").alias(\"num_customers\"),\n",
    "                 functions.round(functions.avg(\"total_orders\"),2).alias(\"avg_total_orders\"),\n",
    "                 functions.round(functions.avg(\"avg_order_value\"), 2).alias(\"avg_order_value\"),\n",
    "                 functions.sum(\"total_orders\").alias(\"total_orders_segment\"),\n",
    "                 functions.round(functions.sum((functions.col(\"avg_order_value\") * functions.col(\"total_orders\"))),2).alias(\"total_revenue\")\n",
    "             )\n",
    "    return df\n",
    "\n",
    "\n",
    "\n",
    "#Customer_Region_Summary\n",
    "@dlt.table\n",
    "def customer_region_summary():\n",
    "    df=spark.read.table(\"blinkit.silver.customers\").groupBy(\"area\").count().withColumnRenamed(\"count\", \"num_of_customers\")\n",
    "    return df\n",
    "\n",
    "\n",
    "\n",
    "#Products_MarginsPercentages\n",
    "@dlt.table\n",
    "def products_marginspercentages():\n",
    "    df = spark.read.table(\"blinkit.silver.products\")\n",
    "    df=df.select(\"product_name\", \"margin_percentage\") \\\n",
    "        .withColumn(\"margin_classification\",when(col(\"margin_percentage\") >= 25, \"High\").otherwise(\"Low\")) \\\n",
    "        .select(\"product_name\", \"margin_percentage\", \"margin_classification\")\n",
    "    return df\n",
    "\n",
    "\n",
    "\n",
    "#Monthly_Sales_Summary\n",
    "@dlt.table\n",
    "def monthly_sales_summary():\n",
    "    orders_df = spark.read.table(\"blinkit.silver.orders\")\n",
    "\n",
    "    order_items_df = spark.read.table(\"blinkit.silver.orderitems\")\n",
    "\n",
    "    joined_df = orders_df.join(order_items_df, \"order_id\", \"inner\")\n",
    "\n",
    "    monthly_orders_df = joined_df.withColumn(\"order_month\", month(col(\"order_date\"))) \\\n",
    "                             .withColumn(\"order_year\", year(col(\"order_date\"))) \\\n",
    "                             .withColumn(\"item_sales\", col(\"quantity\") * col(\"unit_price\"))\n",
    "\n",
    "    \n",
    "    monthly_summary_df = monthly_orders_df.groupBy(\"order_year\", \"order_month\") \\\n",
    "        .agg(\n",
    "            countDistinct(\"order_id\").alias(\"total_orders\"),\n",
    "            sum(\"quantity\").alias(\"total_quantity_sold\"),\n",
    "            round(sum(\"item_sales\"),2).alias(\"total_sales\")\n",
    "        ) \\\n",
    "        .orderBy(\"order_year\", \"order_month\")\n",
    "\n",
    "    return monthly_summary_df\n",
    "\n",
    "\n",
    "\n",
    "#Delivery_Performace_Summary\n",
    "@dlt.table\n",
    "def delivery_performance_summary():\n",
    "    delivery_df = spark.read.table(\"blinkit.silver.deliveryperformance\")\n",
    "\n",
    "  \n",
    "    delivery_df=delivery_df.groupBy(\"delivery_status\") \\\n",
    "        .agg(count(\"order_id\").alias(\"number_of_orders\")) \\\n",
    "        .select(\"delivery_status\", \"number_of_orders\") \\\n",
    "        .orderBy(col(\"number_of_orders\").desc())\n",
    "    \n",
    "    return delivery_df\n",
    "\n",
    "\n",
    "\n",
    "#\n",
    "@dlt.table\n",
    "def feedback_summary():\n",
    "    feedback_df = spark.read.table(\"blinkit.silver.customerfeedback\")\n",
    "    feedback_df = feedback_df.groupBy(\"feedback_category\", \"sentiment\") \\\n",
    "        .agg(count(\"*\").alias(\"count\")) \\\n",
    "        .orderBy(\"feedback_category\", col(\"count\").desc())\n",
    "    \n",
    "    return feedback_df\n"
   ]
  }
 ],
 "metadata": {
  "application/vnd.databricks.v1+notebook": {
   "computePreferences": null,
   "dashboards": [],
   "environmentMetadata": {
    "base_environment": "",
    "environment_version": "2"
   },
   "inputWidgetPreferences": null,
   "language": "python",
   "notebookMetadata": {
    "pythonIndentUnit": 4
   },
   "notebookName": "silver_to_gold",
   "widgets": {}
  },
  "language_info": {
   "name": "python"
  }
 },
 "nbformat": 4,
 "nbformat_minor": 0
}